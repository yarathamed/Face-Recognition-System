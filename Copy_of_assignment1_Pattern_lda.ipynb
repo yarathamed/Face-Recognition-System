{
  "nbformat": 4,
  "nbformat_minor": 0,
  "metadata": {
    "colab": {
      "name": "Copy of assignment1_Pattern_lda.ipynb",
      "provenance": [],
      "collapsed_sections": [],
      "include_colab_link": true
    },
    "kernelspec": {
      "name": "python3",
      "display_name": "Python 3"
    },
    "language_info": {
      "name": "python"
    }
  },
  "cells": [
    {
      "cell_type": "markdown",
      "metadata": {
        "id": "view-in-github",
        "colab_type": "text"
      },
      "source": [
        "<a href=\"https://colab.research.google.com/github/yarathamed/Face-Recognition-System/blob/main/Copy_of_assignment1_Pattern_lda.ipynb\" target=\"_parent\"><img src=\"https://colab.research.google.com/assets/colab-badge.svg\" alt=\"Open In Colab\"/></a>"
      ]
    },
    {
      "cell_type": "code",
      "source": [
        "from PIL import Image\n",
        "# import  matplotlib.image as mpimg\n",
        "import matplotlib.pyplot as plt\n",
        "import numpy as np\n",
        "from sklearn.neighbors import KNeighborsClassifier\n",
        "from sklearn.metrics import accuracy_score\n",
        "from sklearn import metrics\n",
        "from skimage import color\n",
        "from skimage import io\n",
        "import cv2\n",
        "from sklearn.model_selection import train_test_split\n",
        "# plt.show()\n",
        "# import cv2"
      ],
      "metadata": {
        "id": "eFXmHaFUHjir"
      },
      "execution_count": null,
      "outputs": []
    },
    {
      "cell_type": "code",
      "source": [
        "from google.colab import drive\n",
        "drive.mount('/content/drive')"
      ],
      "metadata": {
        "colab": {
          "base_uri": "https://localhost:8080/"
        },
        "id": "mHa8YQLvHnbr",
        "outputId": "6f28e4b6-f96f-4a4d-d99a-f9e3f78bf9f2"
      },
      "execution_count": null,
      "outputs": [
        {
          "output_type": "stream",
          "name": "stdout",
          "text": [
            "Mounted at /content/drive\n"
          ]
        }
      ]
    },
    {
      "cell_type": "code",
      "source": [
        "datapath = 'drive/MyDrive/assignment1_pattern/faces/s1/2.pgm'\n",
        "try:\n",
        "  img=Image.open(datapath)\n",
        "# img=cv2.imread(datapath)\n",
        "  plt.imshow(img)\n",
        "  print(np.asarray(img).shape)\n",
        "except IOError:\n",
        "  pass  \n",
        "# plt.show()"
      ],
      "metadata": {
        "id": "Fv8MPUSvHr_Q"
      },
      "execution_count": null,
      "outputs": []
    },
    {
      "cell_type": "markdown",
      "source": [
        "##Convert every image into a vector of 10304 values"
      ],
      "metadata": {
        "id": "lNLed3mz2ZXL"
      }
    },
    {
      "cell_type": "code",
      "source": [
        "def conv_img_to_vec(path):  \n",
        "  img  = Image.open(path)\n",
        "  # img=cv2.imread(path) \n",
        "  # plt.imshow(img)\n",
        "  img_vec=np.array(img).flatten()\n",
        "  return img_vec \n",
        "  # print(img_vect)\n",
        "  # print(len(img_vect))\n",
        "  # w,h=img.size\n",
        "  # print(w,h)"
      ],
      "metadata": {
        "id": "fqCMuWw-HzQw"
      },
      "execution_count": null,
      "outputs": []
    },
    {
      "cell_type": "markdown",
      "source": [
        "## Generating Data Matrix and label vector"
      ],
      "metadata": {
        "id": "_4fwSSh62cTg"
      }
    },
    {
      "cell_type": "code",
      "source": [
        "# def preprocess(dataset_dir = \"drive/MyDrive/assignment1_pattern/faces\"):\n",
        "dataset_dir = \"drive/MyDrive/assignment1_pattern/faces\"\n",
        "D = np.empty((0, 10304))#, int\n",
        "y=[]\n",
        "  # train_set = []\n",
        "  # train_set_number = []\n",
        "  # test_set = []\n",
        "  # test_set_number = []\n",
        "for i in range(40):\n",
        "    label = i+1\n",
        "    for j in range(10):\n",
        "        # if j < 6 :\n",
        "            path = dataset_dir + '/s'+str(label)+'/'+str(j+1)+'.pgm'\n",
        "            img = conv_img_to_vec(path).astype(np.int64)\n",
        "            D=np.append(D,np.array([img]),axis=0) \n",
        "            # D.append(img)\n",
        "            y.append(label)\n",
        "        # else : \n",
        "            # path = dataset_dir + '/s'+str(person_id)+'/'+str(j+1)+'.pgm'\n",
        "            # img = img_to_vector(path).astype(np.int64)\n",
        "            # test_set.append(img)\n",
        "            # test_set_number.append(person_id)\n",
        "    \n",
        "# D = np.array(D.reshape(400,10304))\n",
        "# y = np.array(y.reshape(400,10304))\n",
        "# test_set = np.array(test_set)\n",
        "# test_set_number = np.array(test_set_number)\n",
        "# print(np.size(D))\n",
        "print(\"Dimensions of D =\",D.shape)\n",
        "# print(D.shape[1])\n",
        "print(\"Length of y =\",len(y))\n",
        "  # return D,y\n",
        "    # train_set.T, train_set_number, test_set.T, test_set_number"
      ],
      "metadata": {
        "colab": {
          "base_uri": "https://localhost:8080/"
        },
        "id": "WPNnZIaPH2rj",
        "outputId": "41358fa3-0c34-4e92-a512-0c6ceec9961d"
      },
      "execution_count": null,
      "outputs": [
        {
          "output_type": "stream",
          "name": "stdout",
          "text": [
            "Dimensions of D = (400, 10304)\n",
            "Length of y = 400\n"
          ]
        }
      ]
    },
    {
      "cell_type": "markdown",
      "source": [
        "## Splitting the data into train and test data (50% each)"
      ],
      "metadata": {
        "id": "0I9Ja32x2gbi"
      }
    },
    {
      "cell_type": "code",
      "source": [
        "X_train = D[1:400:2,:]\n",
        "X_test = D[0:400:2,:]\n",
        "y_train = y[1:400:2]\n",
        "y_test = y[0:400:2]\n",
        "\n",
        "from collections import Counter\n",
        "\n",
        "print(\"train dataset: \",Counter(y_train))\n",
        "print('test dataset: ',Counter(y_test))\n",
        "\n",
        "print(X_train)\n",
        "print(X_train.shape)\n",
        "print(X_train.T.shape)\n",
        "print(X_test)\n",
        "print(X_test.shape)\n",
        "\n",
        "\n",
        "# from sklearn.model_selection import train_test_split\n",
        "# X_train2, X_test2, y_train2, y_test2 = train_test_split( D, y, test_size=0.5, random_state=42)\n",
        "# print(\"train dataset: \",Counter(y_train))\n",
        "# print('test dataset: ',Counter(y_test))\n",
        "\n",
        "# print(X_train)\n",
        "# print(X_test)"
      ],
      "metadata": {
        "colab": {
          "base_uri": "https://localhost:8080/"
        },
        "id": "foHTZ5iNIJBb",
        "outputId": "fd624f86-7441-44eb-a4a3-540c32ba8bba"
      },
      "execution_count": null,
      "outputs": [
        {
          "output_type": "stream",
          "name": "stdout",
          "text": [
            "train dataset:  Counter({1: 5, 2: 5, 3: 5, 4: 5, 5: 5, 6: 5, 7: 5, 8: 5, 9: 5, 10: 5, 11: 5, 12: 5, 13: 5, 14: 5, 15: 5, 16: 5, 17: 5, 18: 5, 19: 5, 20: 5, 21: 5, 22: 5, 23: 5, 24: 5, 25: 5, 26: 5, 27: 5, 28: 5, 29: 5, 30: 5, 31: 5, 32: 5, 33: 5, 34: 5, 35: 5, 36: 5, 37: 5, 38: 5, 39: 5, 40: 5})\n",
            "test dataset:  Counter({1: 5, 2: 5, 3: 5, 4: 5, 5: 5, 6: 5, 7: 5, 8: 5, 9: 5, 10: 5, 11: 5, 12: 5, 13: 5, 14: 5, 15: 5, 16: 5, 17: 5, 18: 5, 19: 5, 20: 5, 21: 5, 22: 5, 23: 5, 24: 5, 25: 5, 26: 5, 27: 5, 28: 5, 29: 5, 30: 5, 31: 5, 32: 5, 33: 5, 34: 5, 35: 5, 36: 5, 37: 5, 38: 5, 39: 5, 40: 5})\n",
            "[[ 60.  60.  62. ...  32.  34.  34.]\n",
            " [ 63.  53.  35. ...  41.  10.  24.]\n",
            " [ 43.  50.  41. ... 158. 153. 169.]\n",
            " ...\n",
            " [123. 121. 126. ...  40.  35.  42.]\n",
            " [125. 119. 124. ...  36.  39.  40.]\n",
            " [125. 124. 124. ...  36.  35.  34.]]\n",
            "(200, 10304)\n",
            "(10304, 200)\n",
            "[[ 48.  49.  45. ...  47.  46.  46.]\n",
            " [ 39.  44.  53. ...  29.  26.  29.]\n",
            " [ 64.  76.  80. ...  35.  37.  39.]\n",
            " ...\n",
            " [128. 125. 125. ...  85.  90.  84.]\n",
            " [129. 127. 133. ...  93.  93.  93.]\n",
            " [119. 120. 120. ...  89.  94.  85.]]\n",
            "(200, 10304)\n"
          ]
        }
      ]
    },
    {
      "cell_type": "markdown",
      "source": [
        "## LDA"
      ],
      "metadata": {
        "id": "inrc8TSz2k3s"
      }
    },
    {
      "cell_type": "code",
      "execution_count": null,
      "metadata": {
        "id": "O-1nqEblFO5D"
      },
      "outputs": [],
      "source": [
        "def lda(trainD, labels, k):\n",
        "    # trainD = np.asarray(trainD)\n",
        "    # labels = np.asarray(labels)\n",
        "\n",
        "    n, d = trainD.shape\n",
        "    #get number of classes\n",
        "    classes = np.unique(labels)\n",
        "    total_mean = trainD.mean(axis=0)\n",
        "     #between class scatter matrix\n",
        "    Sb = np.zeros((d,d),dtype=np.float32)\n",
        "    #within class scatter matrix\n",
        "    Sw = np.zeros((d,d),dtype=np.float32)\n",
        "\n",
        "    for i in classes:\n",
        "        #get subject class\n",
        "        trainDi = trainD[np.where(labels==i)[0],:]\n",
        "        #mean of the class\n",
        "        # print(\"Calculating means\")\n",
        "        meani = trainDi.mean(axis=0)\n",
        "        ni=traiwnDi.shape[0]\n",
        "        # print(\"Calculating between class scatter matrix\")\n",
        "        Sb = Sb + ni * np.dot((meani - total_mean).T,(meani - total_mean))\n",
        "        # print(\"Calculating within-class scatter matrix\")\n",
        "        Sw = Sw + np.dot((trainDi - meani).T,(trainDi - meani))\n",
        "        \n",
        "    eigen_values, eigen_vectors = np.linalg.eigh(np.dot(np.linalg.inv(Sw), Sb))\n",
        "    #get indexes of descendigly sorted eigen values array\n",
        "    idx = eigen_values.argsort()[::-1][:k]\n",
        "    #get the corresponding k eigenvectors \n",
        "    eigen_vectors = np.array(eigen_vectors[:,idx].real,dtype= np.float32)\n",
        "    \n",
        "    return eigen_vectors.T\n"
      ]
    },
    {
      "cell_type": "markdown",
      "source": [
        "## Functions"
      ],
      "metadata": {
        "id": "BM_7Wd2i2n94"
      }
    },
    {
      "cell_type": "code",
      "source": [
        "def KNN_lda(test_faces, test_labels, train_faces, train_labels): ## classifier tuning\n",
        "    K=[1,3,5,7]\n",
        "    acc=[]\n",
        "    for k in K:\n",
        "      knn = KNeighborsClassifier(n_neighbors=k)\n",
        "      Nmodel=knn.fit(train_faces, train_labels)\n",
        "      #get the prediction for each image in the test set\n",
        "      y_pred_lda = Nmodel.predict(test_faces)\n",
        "      #get the accuracy of the prediction\n",
        "      acc.append(metrics.accuracy_score(test_labels, y_pred_lda))\n",
        "      # accuracy = metrics.accuracy_score(test_labels, y_pred_lda)\n",
        "    plotAccAgainstK_lda(K,acc)#accuracy * 100\n",
        "    \n",
        "def FirstNN(x,y,x_test): ##first nearest neighbor to determine class labels\n",
        "  FNN_Model = KNeighborsClassifier(n_neighbors=1) \n",
        "  model=FNN_Model.fit(x,y)\n",
        "  y_pred_lda=model.predict(x_test)\n",
        "  return y_pred_lda\n",
        "\n",
        "def plotAccAgainstK_lda(k,acc): ## plotting classification accuracy against value of k\n",
        "  # vec=[39,53]\n",
        "  # i=0\n",
        "  plt.plot(k,acc)\n",
        "  plt.xlabel(\"K\")\n",
        "  plt.ylabel(\"Accuracy\")\n",
        "  # plt.legend()  \n",
        "        "
      ],
      "metadata": {
        "id": "eRz4A3hHJgJ2"
      },
      "execution_count": null,
      "outputs": []
    },
    {
      "cell_type": "code",
      "source": [
        "W = lda(X_train, y_train, 39)\n",
        "W_comp = lda(X_train, y_train, 53)\n",
        "projectedTrain = np.dot(W,X_train.T).T\n",
        "projectedTest =  np.dot(W,X_test.T).T\n",
        "projectedTrain_comp = np.dot(W_comp,X_train.T).T\n",
        "projectedTest_comp =  np.dot(W_comp,X_test.T).T\n",
        "y_pred_lda=FirstNN(projectedTrain, y_train, projectedTest)\n",
        "y_pred_lda_comp=FirstNN(projectedTrain_comp, y_train, projectedTest_comp)\n",
        "\n",
        "accuracyLDA = metrics.accuracy_score(y_test,y_pred_lda) #, y_train,1)\n",
        "accuracyLDA_comp = metrics.accuracy_score(y_test,y_pred_lda_comp)\n",
        "KNN_lda(projectedTest, y_test, projectedTrain, y_train)\n",
        "KNN_lda(projectedTest_comp, y_test, projectedTrain_comp, y_train)\n",
        "\n",
        "# plotAccAgainstK_lda()\n",
        "print(\"dim of projected matrix = \",projectedTrain.shape)\n",
        "print(\"dim of projected matrix with 53 eigenvectors = \",projectedTrain_comp.shape)\n",
        "print(\"accuracy of LDA: \", accuracyLDA*100,\"%\")\n",
        "print(\"accuracy of LDA with 53 eigenvectors: \", accuracyLDA_comp*100,\"%\")"
      ],
      "metadata": {
        "colab": {
          "base_uri": "https://localhost:8080/",
          "height": 348
        },
        "id": "msCOuTDIsN95",
        "outputId": "589ad5ea-4c4d-467d-9381-12cc4d041630"
      },
      "execution_count": null,
      "outputs": [
        {
          "output_type": "stream",
          "name": "stdout",
          "text": [
            "dim of projected matrix =  (200, 39)\n",
            "dim of projected matrix with 53 eigenvectors =  (200, 53)\n",
            "accuracy of LDA:  94.5 %\n",
            "accuracy of LDA with 53 eigenvectors:  94.5 %\n"
          ]
        },
        {
          "output_type": "display_data",
          "data": {
            "text/plain": [
              "<Figure size 432x288 with 1 Axes>"
            ],
            "image/png": "[encoded data removed]"
          },
          "metadata": {
            "needs_background": "light"
          }
        }
      ]
    },
    {
      "cell_type": "code",
      "source": [
        "print(W)"
      ],
      "metadata": {
        "colab": {
          "base_uri": "https://localhost:8080/"
        },
        "id": "O45HPcbXjHfI",
        "outputId": "e901fa8b-56d2-4c7a-873b-da0a7eba8da7"
      },
      "execution_count": null,
      "outputs": [
        {
          "output_type": "stream",
          "name": "stdout",
          "text": [
            "[[-4.9444795e-02  5.7214007e-02 -6.9105007e-02 ...  4.9113519e-03\n",
            "   2.3997037e-02  3.8225057e-03]\n",
            " [ 1.7345846e-02  1.7977111e-03 -4.3715142e-02 ...  2.5329391e-02\n",
            "   3.3073355e-02  3.5888117e-03]\n",
            " [ 1.8682603e-02  7.1816295e-02  1.3398944e-02 ... -2.1090366e-02\n",
            "  -2.4527131e-02  1.0937911e-03]\n",
            " ...\n",
            " [ 1.9702207e-02  6.8919219e-02  7.8772949e-03 ... -1.8340135e-04\n",
            "   1.4216493e-02  2.8151574e-03]\n",
            " [-2.9169360e-01  3.7563860e-02 -5.3103860e-02 ... -5.9063653e-03\n",
            "  -1.2209202e-02  4.0995735e-03]\n",
            " [-2.9169360e-01  3.7563860e-02 -5.3103860e-02 ... -5.9063653e-03\n",
            "  -1.2209202e-02  4.0995735e-03]]\n"
          ]
        }
      ]
    },
    {
      "cell_type": "code",
      "source": [
        "D2 = D\n",
        "labels_D2=[0]*400\n",
        "print(D2)\n",
        "print(labels_D2)"
      ],
      "metadata": {
        "colab": {
          "base_uri": "https://localhost:8080/"
        },
        "id": "bOmCRvSyQAm5",
        "outputId": "9da5220c-d954-49b8-c30b-aa0a8572342f"
      },
      "execution_count": null,
      "outputs": [
        {
          "output_type": "stream",
          "name": "stdout",
          "text": [
            "[[ 48.  49.  45. ...  47.  46.  46.]\n",
            " [ 60.  60.  62. ...  32.  34.  34.]\n",
            " [ 39.  44.  53. ...  29.  26.  29.]\n",
            " ...\n",
            " [125. 119. 124. ...  36.  39.  40.]\n",
            " [119. 120. 120. ...  89.  94.  85.]\n",
            " [125. 124. 124. ...  36.  35.  34.]]\n",
            "[0, 0, 0, 0, 0, 0, 0, 0, 0, 0, 0, 0, 0, 0, 0, 0, 0, 0, 0, 0, 0, 0, 0, 0, 0, 0, 0, 0, 0, 0, 0, 0, 0, 0, 0, 0, 0, 0, 0, 0, 0, 0, 0, 0, 0, 0, 0, 0, 0, 0, 0, 0, 0, 0, 0, 0, 0, 0, 0, 0, 0, 0, 0, 0, 0, 0, 0, 0, 0, 0, 0, 0, 0, 0, 0, 0, 0, 0, 0, 0, 0, 0, 0, 0, 0, 0, 0, 0, 0, 0, 0, 0, 0, 0, 0, 0, 0, 0, 0, 0, 0, 0, 0, 0, 0, 0, 0, 0, 0, 0, 0, 0, 0, 0, 0, 0, 0, 0, 0, 0, 0, 0, 0, 0, 0, 0, 0, 0, 0, 0, 0, 0, 0, 0, 0, 0, 0, 0, 0, 0, 0, 0, 0, 0, 0, 0, 0, 0, 0, 0, 0, 0, 0, 0, 0, 0, 0, 0, 0, 0, 0, 0, 0, 0, 0, 0, 0, 0, 0, 0, 0, 0, 0, 0, 0, 0, 0, 0, 0, 0, 0, 0, 0, 0, 0, 0, 0, 0, 0, 0, 0, 0, 0, 0, 0, 0, 0, 0, 0, 0, 0, 0, 0, 0, 0, 0, 0, 0, 0, 0, 0, 0, 0, 0, 0, 0, 0, 0, 0, 0, 0, 0, 0, 0, 0, 0, 0, 0, 0, 0, 0, 0, 0, 0, 0, 0, 0, 0, 0, 0, 0, 0, 0, 0, 0, 0, 0, 0, 0, 0, 0, 0, 0, 0, 0, 0, 0, 0, 0, 0, 0, 0, 0, 0, 0, 0, 0, 0, 0, 0, 0, 0, 0, 0, 0, 0, 0, 0, 0, 0, 0, 0, 0, 0, 0, 0, 0, 0, 0, 0, 0, 0, 0, 0, 0, 0, 0, 0, 0, 0, 0, 0, 0, 0, 0, 0, 0, 0, 0, 0, 0, 0, 0, 0, 0, 0, 0, 0, 0, 0, 0, 0, 0, 0, 0, 0, 0, 0, 0, 0, 0, 0, 0, 0, 0, 0, 0, 0, 0, 0, 0, 0, 0, 0, 0, 0, 0, 0, 0, 0, 0, 0, 0, 0, 0, 0, 0, 0, 0, 0, 0, 0, 0, 0, 0, 0, 0, 0, 0, 0, 0, 0, 0, 0, 0, 0, 0, 0, 0, 0, 0, 0, 0, 0, 0, 0, 0, 0, 0, 0, 0, 0, 0, 0, 0, 0, 0, 0, 0, 0]\n"
          ]
        }
      ]
    },
    {
      "cell_type": "code",
      "source": [
        "# def unison_shuffled_copies(a, b):\n",
        "#     assert len(a) == len(b)\n",
        "#     p = np.random.permutation(len(a))\n",
        "#     return a[p], b[p]"
      ],
      "metadata": {
        "id": "ucFjoUb7cOnF"
      },
      "execution_count": null,
      "outputs": []
    },
    {
      "cell_type": "code",
      "source": [
        "step = [1, 3, 5]\n",
        "accuracies=[]\n",
        "#print(step[-2])\n",
        "for j in range(len(step)):\n",
        " if step[j]!=1:\n",
        "  del labels_D2[400:]\n",
        "  D2 = D2.tolist()\n",
        "  del D2[400:]\n",
        " D2 = np.array(D2)\n",
        " for i in range(1, (step[j]*100)+1): \n",
        "  labels_D2.append(1) \n",
        "  path_ni = \"drive/MyDrive/assignment1_pattern/nonfaces2/pic (\"+str(i)+\").jpg\"\n",
        "  img = io.imread(path_ni)\n",
        "  imgGray = color.rgb2gray(img)\n",
        "  imgGray_resized = cv2.resize(imgGray, (92,112))\n",
        "  img_nf = np.array(imgGray_resized).flatten()\n",
        "  D2=np.append(D2,np.array([img_nf]),axis=0)\n",
        "\n",
        "#  np.random.shuffle(D2)#[400:])\n",
        "#  D2_shuff,labels_D2_shuff=unison_shuffled_copies(D2,np.asarray(labels_D2))\n",
        " X_trainNF = D2[1:400+step[j]*100:2,:]\n",
        " X_testNF = D2[0:400+step[j]*100:2,:]\n",
        " y_trainNF = labels_D2[1:400+step[j]*100:2]\n",
        " y_testNF = labels_D2[0:400+step[j]*100:2]\n",
        " print(\"dim of X_trainNF = \",X_trainNF.shape)\n",
        " \n",
        " W = lda(X_trainNF, y_trainNF, 39)\n",
        " projectedTrainNF = np.dot(W,X_trainNF.T).T\n",
        " projectedTestNF =  np.dot(W,X_testNF.T).T\n",
        " y_pred_lda=FirstNN(projectedTrainNF, y_trainNF, projectedTestNF)\n",
        " accuracyLDA = metrics.accuracy_score(y_testNF,y_pred_lda)\n",
        " KNN_lda(projectedTestNF, y_testNF, projectedTrainNF, y_trainNF)\n",
        " print(\"Number of dominant eigenvectors = \",W.shape[0])\n",
        " print(\"dim of projected matrix = \",projectedTrain.shape)\n",
        " print(\"accuracy of LDA: \", accuracyLDA*100,\"%\")\n",
        " accuracies.append(accuracyLDA)\n",
        "\n",
        "\n",
        "\n",
        "\n"
      ],
      "metadata": {
        "colab": {
          "base_uri": "https://localhost:8080/",
          "height": 487
        },
        "id": "js1lXpISQJTz",
        "outputId": "bc1004e8-16ce-40d7-c6aa-6efac296e2e5"
      },
      "execution_count": null,
      "outputs": [
        {
          "output_type": "stream",
          "name": "stdout",
          "text": [
            "dim of X_trainNF =  (250, 10304)\n",
            "Number of dominant eigenvectors =  39\n",
            "dim of projected matrix =  (200, 39)\n",
            "accuracy of LDA:  100.0 %\n",
            "dim of X_trainNF =  (350, 10304)\n",
            "Number of dominant eigenvectors =  39\n",
            "dim of projected matrix =  (200, 39)\n",
            "accuracy of LDA:  100.0 %\n",
            "dim of X_trainNF =  (450, 10304)\n",
            "Number of dominant eigenvectors =  39\n",
            "dim of projected matrix =  (200, 39)\n",
            "accuracy of LDA:  100.0 %\n"
          ]
        },
        {
          "output_type": "display_data",
          "data": {
            "text/plain": [
              "<Figure size 432x288 with 1 Axes>"
            ],
            "image/png": "[encoded data removed]"
          },
          "metadata": {
            "needs_background": "light"
          }
        }
      ]
    },
    {
      "cell_type": "code",
      "source": [
        "print(W.shape)"
      ],
      "metadata": {
        "colab": {
          "base_uri": "https://localhost:8080/"
        },
        "id": "uA3w3PmZBCKB",
        "outputId": "99f9de09-21d0-45b5-a62d-4e883a584895"
      },
      "execution_count": null,
      "outputs": [
        {
          "output_type": "stream",
          "name": "stdout",
          "text": [
            "(10304, 10304)\n"
          ]
        }
      ]
    },
    {
      "cell_type": "code",
      "source": [
        "plt.plot([100,300,500],accuracies)\n",
        "plt.xlabel(\"Number of nonface images\")\n",
        "plt.ylabel(\"Accuracy\")"
      ],
      "metadata": {
        "colab": {
          "base_uri": "https://localhost:8080/",
          "height": 296
        },
        "id": "bbx91_iFhR7f",
        "outputId": "ad4ecff2-0370-4ec2-87dc-a6d2b41b13f2"
      },
      "execution_count": null,
      "outputs": [
        {
          "output_type": "execute_result",
          "data": {
            "text/plain": [
              "Text(0, 0.5, 'Accuracy')"
            ]
          },
          "metadata": {},
          "execution_count": 64
        },
        {
          "output_type": "display_data",
          "data": {
            "text/plain": [
              "<Figure size 432x288 with 1 Axes>"
            ],
            "image/png": "[encoded data removed]"
          },
          "metadata": {
            "needs_background": "light"
          }
        }
      ]
    },
    {
      "cell_type": "code",
      "source": [
        "X_train_70, X_test_30, y_train_70, y_test_30 = train_test_split(D, y, test_size=0.3, random_state=42,stratify=y)\n",
        "print(\"train dataset: \",Counter(y_train_70))\n",
        "print('test dataset: ',Counter(y_test_30))"
      ],
      "metadata": {
        "colab": {
          "base_uri": "https://localhost:8080/"
        },
        "id": "K2tUd43_e9aj",
        "outputId": "5bafafe1-ca27-491e-af2d-b430935cbaec"
      },
      "execution_count": null,
      "outputs": [
        {
          "output_type": "stream",
          "name": "stdout",
          "text": [
            "train dataset:  Counter({16: 7, 4: 7, 11: 7, 12: 7, 27: 7, 25: 7, 2: 7, 19: 7, 20: 7, 13: 7, 6: 7, 36: 7, 31: 7, 8: 7, 5: 7, 28: 7, 1: 7, 30: 7, 38: 7, 7: 7, 9: 7, 35: 7, 23: 7, 32: 7, 39: 7, 26: 7, 29: 7, 24: 7, 21: 7, 10: 7, 3: 7, 37: 7, 40: 7, 17: 7, 34: 7, 14: 7, 15: 7, 33: 7, 18: 7, 22: 7})\n",
            "test dataset:  Counter({31: 3, 19: 3, 17: 3, 10: 3, 18: 3, 25: 3, 38: 3, 37: 3, 1: 3, 36: 3, 26: 3, 39: 3, 23: 3, 27: 3, 15: 3, 8: 3, 33: 3, 35: 3, 22: 3, 9: 3, 12: 3, 28: 3, 34: 3, 16: 3, 4: 3, 29: 3, 30: 3, 5: 3, 14: 3, 20: 3, 6: 3, 7: 3, 32: 3, 11: 3, 2: 3, 21: 3, 24: 3, 40: 3, 13: 3, 3: 3})\n"
          ]
        }
      ]
    },
    {
      "cell_type": "code",
      "source": [
        "W = lda(X_train_70, y_train_70, 39)\n",
        "projectedTrain_70 = np.dot(W,X_train_70.T).T\n",
        "projectedTest_30 =  np.dot(W,X_test_30.T).T\n",
        "y_pred_lda2=FirstNN(projectedTrain_70, y_train_70, projectedTest_30)\n",
        "accuracyLDA2 = metrics.accuracy_score(y_test_30,y_pred_lda2)\n",
        "KNN_lda(projectedTest_30, y_test_30, projectedTrain_70, y_train_70)\n",
        "print(\"dim of projected matrix = \",projectedTrain_70.shape)\n",
        "print(\"accuracy of LDA: \", accuracyLDA2*100,\"%\")"
      ],
      "metadata": {
        "colab": {
          "base_uri": "https://localhost:8080/",
          "height": 334
        },
        "id": "6ciQJ1dEfAal",
        "outputId": "913893f4-43c2-4363-c467-2dd34914df94"
      },
      "execution_count": null,
      "outputs": [
        {
          "output_type": "stream",
          "name": "stderr",
          "text": [
            "No handles with labels found to put in legend.\n"
          ]
        },
        {
          "output_type": "stream",
          "name": "stdout",
          "text": [
            "dim of projected matrix =  (280, 39)\n",
            "accuracy of LDA:  94.16666666666667 %\n"
          ]
        },
        {
          "output_type": "display_data",
          "data": {
            "text/plain": [
              "<Figure size 432x288 with 1 Axes>"
            ],
            "image/png": "[encoded data removed]"
          },
          "metadata": {
            "needs_background": "light"
          }
        }
      ]
    },
    {
      "cell_type": "code",
      "source": [
        "# a=np.array([1,2,3,4])\n",
        "# b=np.array([7,3,0,8])\n",
        "# print(unison_shuffled_copies(a,b))"
      ],
      "metadata": {
        "colab": {
          "base_uri": "https://localhost:8080/"
        },
        "id": "-g8orFPhcZsh",
        "outputId": "efed623b-3d29-401b-8ff8-917cc56f42ef"
      },
      "execution_count": null,
      "outputs": [
        {
          "output_type": "stream",
          "name": "stdout",
          "text": [
            "(array([4, 1, 3, 2]), array([8, 7, 0, 3]))\n"
          ]
        }
      ]
    }
  ]
}